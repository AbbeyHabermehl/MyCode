{
 "cells": [
  {
   "cell_type": "markdown",
   "metadata": {},
   "source": [
    "# **Homework Five**"
   ]
  },
  {
   "cell_type": "markdown",
   "metadata": {},
   "source": [
    "\n",
    "•\t(Ungraded, but as always, completion still counts!) DataCamp Data Ingestion & inspection, and Exploratory data analysis\n",
    "\n",
    "•\t(Ungraded) Reading Vanderplas Chapters 2 & 3 (https://jakevdp.github.io/PythonDataScienceHandbook/)\n",
    "\n",
    "•\t(Graded) Part I: Gaddis 11.3 (Follow prompts below), Part II: Data exercise below (Enter your code whereever it says # Your code here)"
   ]
  },
  {
   "cell_type": "markdown",
   "metadata": {},
   "source": [
    "# ** Part I (Gaddis 11.3)**"
   ]
  },
  {
   "cell_type": "markdown",
   "metadata": {},
   "source": [
    "Below is a class named <span style=\"color:green\"> Person </span> with data attributes for a person’s ** name, address, and telephone number**. Next, write a class named <span style=\"color:green\"> Customer </span> that is a subclass of the Person class. The <span style=\"color:green\"> Customer </span> class should have a data attribute for a **customer number**, and a Boolean data attribute, **on_list**, indicating whether the customer wishes to be on a mailing list. The <span style=\"color:green\"> Customer </span> class should also have a method that asks the user if they want to be on the list (y/n), and then assigns that to the on_list attribute. Demonstrate an instance of the <span style=\"color:green\"> Customer </span> class in a simple program. (This is a short problem, so don't overthink it.)\n"
   ]
  },
  {
   "cell_type": "code",
   "execution_count": 127,
   "metadata": {},
   "outputs": [],
   "source": [
    "class Person:\n",
    "    def __init__(self, name, address, phone_number):\n",
    "        self.name = name\n",
    "        self.address = address\n",
    "        self.phone_number = phone_number"
   ]
  },
  {
   "cell_type": "code",
   "execution_count": 153,
   "metadata": {},
   "outputs": [],
   "source": [
    "class Customer(Person):\n",
    "    def __init__(self, name, address, phone_number, cust_number, on_list):\n",
    "        Person.__init__(self, name, address, phone_number)\n",
    "        self.cust_number = cust_number\n",
    "        self.on_list = on_list\n",
    "\n",
    "    def set_on_list(self):\n",
    "        question = input('Do you want to be on the list(y/n)?')\n",
    "        if question == 'y':\n",
    "            self.on_list = 'y'\n",
    "        elif question == 'n':\n",
    "            self.on_list = 'n'\n",
    "        else:\n",
    "            print('please enter either a y or n')\n",
    "            self.set_on_list()\n",
    "        "
   ]
  },
  {
   "cell_type": "markdown",
   "metadata": {},
   "source": [
    "1. Create an instance of the Customer class called Jane, instantiating Jane with 'n' for the on-list attribute. \n",
    "2. Then call the set_on_list() method for Jane, and respond 'y'\n",
    "3. Call the Jane.on_list attribute to show that on_list changed from 'n' to 'y'"
   ]
  },
  {
   "cell_type": "code",
   "execution_count": 155,
   "metadata": {},
   "outputs": [
    {
     "name": "stdout",
     "output_type": "stream",
     "text": [
      "n\n",
      "Do you want to be on the list(y/n)?y\n",
      "y\n"
     ]
    }
   ],
   "source": [
    "# Your code here after Jane\n",
    "Jane = Customer('Jane', 'Jane Address', 91474141, 4784184748, 'n')\n",
    "print(Jane.on_list)\n",
    "Jane.set_on_list()\n",
    "print(Jane.on_list)"
   ]
  },
  {
   "cell_type": "markdown",
   "metadata": {},
   "source": [
    "# Part II (Data)"
   ]
  },
  {
   "cell_type": "markdown",
   "metadata": {},
   "source": [
    "a) Use the bmore.csv dataset for this homework. Make sure your output does not display errors. \n",
    "Import the data into a DataFrame and describe the data."
   ]
  },
  {
   "cell_type": "code",
   "execution_count": 156,
   "metadata": {},
   "outputs": [
    {
     "data": {
      "text/html": [
       "<div>\n",
       "<style scoped>\n",
       "    .dataframe tbody tr th:only-of-type {\n",
       "        vertical-align: middle;\n",
       "    }\n",
       "\n",
       "    .dataframe tbody tr th {\n",
       "        vertical-align: top;\n",
       "    }\n",
       "\n",
       "    .dataframe thead th {\n",
       "        text-align: right;\n",
       "    }\n",
       "</style>\n",
       "<table border=\"1\" class=\"dataframe\">\n",
       "  <thead>\n",
       "    <tr style=\"text-align: right;\">\n",
       "      <th></th>\n",
       "      <th>Population</th>\n",
       "      <th>Median_Income</th>\n",
       "      <th>Unemployed</th>\n",
       "      <th>Families_in_Poverty</th>\n",
       "      <th>Bachelors_degree</th>\n",
       "      <th>Juvenile_Arrest_Rate</th>\n",
       "      <th>Homicide_Incidence_Rate</th>\n",
       "      <th>Unnamed: 8</th>\n",
       "    </tr>\n",
       "  </thead>\n",
       "  <tbody>\n",
       "    <tr>\n",
       "      <th>count</th>\n",
       "      <td>55.000000</td>\n",
       "      <td>55.000000</td>\n",
       "      <td>55.000000</td>\n",
       "      <td>55.000000</td>\n",
       "      <td>55.000000</td>\n",
       "      <td>55.000000</td>\n",
       "      <td>55.000000</td>\n",
       "      <td>55.000000</td>\n",
       "    </tr>\n",
       "    <tr>\n",
       "      <th>mean</th>\n",
       "      <td>11214.581818</td>\n",
       "      <td>40319.454545</td>\n",
       "      <td>0.116727</td>\n",
       "      <td>0.158364</td>\n",
       "      <td>0.258727</td>\n",
       "      <td>162.874545</td>\n",
       "      <td>21.463636</td>\n",
       "      <td>71.498182</td>\n",
       "    </tr>\n",
       "    <tr>\n",
       "      <th>std</th>\n",
       "      <td>4340.770727</td>\n",
       "      <td>16405.020242</td>\n",
       "      <td>0.055044</td>\n",
       "      <td>0.102158</td>\n",
       "      <td>0.208060</td>\n",
       "      <td>132.828931</td>\n",
       "      <td>15.525777</td>\n",
       "      <td>4.782897</td>\n",
       "    </tr>\n",
       "    <tr>\n",
       "      <th>min</th>\n",
       "      <td>4097.000000</td>\n",
       "      <td>13388.000000</td>\n",
       "      <td>0.030000</td>\n",
       "      <td>0.000000</td>\n",
       "      <td>0.040000</td>\n",
       "      <td>17.800000</td>\n",
       "      <td>0.000000</td>\n",
       "      <td>62.900000</td>\n",
       "    </tr>\n",
       "    <tr>\n",
       "      <th>25%</th>\n",
       "      <td>7840.500000</td>\n",
       "      <td>30228.500000</td>\n",
       "      <td>0.075000</td>\n",
       "      <td>0.090000</td>\n",
       "      <td>0.085000</td>\n",
       "      <td>79.100000</td>\n",
       "      <td>9.300000</td>\n",
       "      <td>68.150000</td>\n",
       "    </tr>\n",
       "    <tr>\n",
       "      <th>50%</th>\n",
       "      <td>9874.000000</td>\n",
       "      <td>36632.000000</td>\n",
       "      <td>0.110000</td>\n",
       "      <td>0.130000</td>\n",
       "      <td>0.180000</td>\n",
       "      <td>129.400000</td>\n",
       "      <td>19.000000</td>\n",
       "      <td>71.900000</td>\n",
       "    </tr>\n",
       "    <tr>\n",
       "      <th>75%</th>\n",
       "      <td>14675.000000</td>\n",
       "      <td>47744.500000</td>\n",
       "      <td>0.150000</td>\n",
       "      <td>0.210000</td>\n",
       "      <td>0.370000</td>\n",
       "      <td>210.550000</td>\n",
       "      <td>29.500000</td>\n",
       "      <td>74.300000</td>\n",
       "    </tr>\n",
       "    <tr>\n",
       "      <th>max</th>\n",
       "      <td>23557.000000</td>\n",
       "      <td>90492.000000</td>\n",
       "      <td>0.280000</td>\n",
       "      <td>0.490000</td>\n",
       "      <td>0.750000</td>\n",
       "      <td>906.700000</td>\n",
       "      <td>61.800000</td>\n",
       "      <td>83.100000</td>\n",
       "    </tr>\n",
       "  </tbody>\n",
       "</table>\n",
       "</div>"
      ],
      "text/plain": [
       "         Population  Median_Income  Unemployed  Families_in_Poverty  \\\n",
       "count     55.000000      55.000000   55.000000            55.000000   \n",
       "mean   11214.581818   40319.454545    0.116727             0.158364   \n",
       "std     4340.770727   16405.020242    0.055044             0.102158   \n",
       "min     4097.000000   13388.000000    0.030000             0.000000   \n",
       "25%     7840.500000   30228.500000    0.075000             0.090000   \n",
       "50%     9874.000000   36632.000000    0.110000             0.130000   \n",
       "75%    14675.000000   47744.500000    0.150000             0.210000   \n",
       "max    23557.000000   90492.000000    0.280000             0.490000   \n",
       "\n",
       "       Bachelors_degree  Juvenile_Arrest_Rate  Homicide_Incidence_Rate  \\\n",
       "count         55.000000             55.000000                55.000000   \n",
       "mean           0.258727            162.874545                21.463636   \n",
       "std            0.208060            132.828931                15.525777   \n",
       "min            0.040000             17.800000                 0.000000   \n",
       "25%            0.085000             79.100000                 9.300000   \n",
       "50%            0.180000            129.400000                19.000000   \n",
       "75%            0.370000            210.550000                29.500000   \n",
       "max            0.750000            906.700000                61.800000   \n",
       "\n",
       "       Unnamed: 8  \n",
       "count   55.000000  \n",
       "mean    71.498182  \n",
       "std      4.782897  \n",
       "min     62.900000  \n",
       "25%     68.150000  \n",
       "50%     71.900000  \n",
       "75%     74.300000  \n",
       "max     83.100000  "
      ]
     },
     "execution_count": 156,
     "metadata": {},
     "output_type": "execute_result"
    }
   ],
   "source": [
    "import time                     \n",
    "import numpy as np\n",
    "import matplotlib.pyplot as plt\n",
    "import pandas as pd\n",
    "from scipy import stats as st\n",
    "import statsmodels.formula.api as sm\n",
    "from patsy import dmatrices\n",
    "\n",
    "# Your code here to load the csv file\n",
    "df = pd.read_csv('bmore.csv')\n",
    "df.describe()\n"
   ]
  },
  {
   "cell_type": "markdown",
   "metadata": {},
   "source": [
    "b) Report summary statistics (e.g., mean, median, and standard deviations) of all numerical\n",
    "variables using numpy's methods. That is, print a table that says something like this:\n",
    "\n",
    "** variable 1 name **\n",
    "\n",
    "mean(Variable 1)\n",
    "\n",
    "median(variable 1)\n",
    "\n",
    "stand.Dev.(Variable 1)\n",
    "\n",
    "\n",
    "\n",
    "** variable 2 name**\n",
    "\n",
    "mean(Variable 2)\n",
    "\n",
    "median(variable 2)\n",
    "\n",
    "mode(variable 2)"
   ]
  },
  {
   "cell_type": "code",
   "execution_count": 157,
   "metadata": {},
   "outputs": [
    {
     "name": "stdout",
     "output_type": "stream",
     "text": [
      "Population\n",
      "Mean:  11214.581818181818\n",
      "Median:  9874.0\n",
      "standard deviation : 4340.770727309922\n",
      "Median_Income\n",
      "Mean:  40319.454545454544\n",
      "Median:  36632.0\n",
      "standard deviation : 16405.020242030005\n",
      "Unemployed\n",
      "Mean:  0.11672727272727272\n",
      "Median:  0.11\n",
      "standard deviation : 0.05504390656404802\n",
      "Families_in_Poverty\n",
      "Mean:  0.15836363636363637\n",
      "Median:  0.13\n",
      "standard deviation : 0.10215753333044812\n",
      "Bachelors_degree\n",
      "Mean:  0.2587272727272728\n",
      "Median:  0.18\n",
      "standard deviation : 0.20806030594299071\n",
      "Juvenile_Arrest_Rate\n",
      "Mean:  162.87454545454545\n",
      "Median:  129.4\n",
      "standard deviation : 132.82893094361222\n",
      "Homicide_Incidence_Rate\n",
      "Mean:  21.463636363636365\n",
      "Median:  19.0\n",
      "standard deviation : 15.525777414022281\n",
      "Unnamed: 8\n",
      "Mean:  71.49818181818182\n",
      "Median:  71.9\n",
      "standard deviation : 4.782897421449444\n"
     ]
    }
   ],
   "source": [
    "for x in df.columns:\n",
    "    if (df[x].dtypes) == np.dtype('O'):\n",
    "        # This if statement says, data type is a string/word, don't attempt to calculate stats\n",
    "        pass\n",
    "    else: \n",
    "        #Your code here\n",
    "        print(x)\n",
    "        print('Mean: ', df[x].mean())\n",
    "        print('Median: ', df[x].median())\n",
    "        print('standard deviation :', df[x].std())\n",
    "        \n",
    "\n",
    "# df.describe()"
   ]
  },
  {
   "cell_type": "markdown",
   "metadata": {},
   "source": [
    "Make a scatterplot of Median Income and Bachelors degree. The latter variable measures the\n",
    "percentage of the population in the county that has a bachelors degree. Label the x-axis \"Percent Bachelors Degree\", and make the title \"Scatterpolt of Median Income and Bachelors Degree.\""
   ]
  },
  {
   "cell_type": "code",
   "execution_count": 158,
   "metadata": {},
   "outputs": [
    {
     "data": {
      "image/png": "[encoded data removed]",
      "text/plain": [
       "<matplotlib.figure.Figure at 0x23e86da44a8>"
      ]
     },
     "metadata": {},
     "output_type": "display_data"
    }
   ],
   "source": [
    "# Show graphs within the Python notebook use matplotlib inline command\n",
    "%matplotlib inline\n",
    "\n",
    "# Your code here\n",
    "\n",
    "df.plot(x='Bachelors_degree', y='Median_Income', style='ro')\n",
    "plt.xlabel ('Percent Bachelors Degree')\n",
    "plt.title('Scatterplot of Median Income and Bachelors Degree')\n",
    "plt.show()\n"
   ]
  },
  {
   "cell_type": "markdown",
   "metadata": {},
   "source": [
    "Run a regression model of the following form:\n",
    "Report a table with all coefficient estimates including p-values."
   ]
  },
  {
   "cell_type": "markdown",
   "metadata": {},
   "source": [
    "$$\\textrm{Juvenile_Arrest_Rate} = \n",
    "\\beta_0 + \\beta_1\\textrm{Population} + \\beta_2\\textrm{Median_Income} + \\beta_3\\textrm{Unemployment} + \\beta4\\textrm{Education} + \\beta_5\\textrm{Poverty} + \\epsilon $$"
   ]
  },
  {
   "cell_type": "code",
   "execution_count": 133,
   "metadata": {},
   "outputs": [
    {
     "name": "stdout",
     "output_type": "stream",
     "text": [
      "                             OLS Regression Results                             \n",
      "================================================================================\n",
      "Dep. Variable:     Juvenile_Arrest_Rate   R-squared:                       0.415\n",
      "Model:                              OLS   Adj. R-squared:                  0.356\n",
      "Method:                   Least Squares   F-statistic:                     6.963\n",
      "Date:                  Thu, 17 May 2018   Prob (F-statistic):           5.55e-05\n",
      "Time:                          17:35:30   Log-Likelihood:                -331.67\n",
      "No. Observations:                    55   AIC:                             675.3\n",
      "Df Residuals:                        49   BIC:                             687.4\n",
      "Df Model:                             5                                         \n",
      "Covariance Type:              nonrobust                                         \n",
      "=======================================================================================\n",
      "                          coef    std err          t      P>|t|      [0.025      0.975]\n",
      "---------------------------------------------------------------------------------------\n",
      "Intercept             265.4481    117.846      2.252      0.029      28.628     502.268\n",
      "Population             -0.0039      0.004     -1.097      0.278      -0.011       0.003\n",
      "Median_Income          -0.0054      0.002     -2.744      0.008      -0.009      -0.001\n",
      "Unemployed           -327.2254    460.436     -0.711      0.481   -1252.506     598.055\n",
      "Bachelors_degree      434.1787    124.732      3.481      0.001     183.520     684.838\n",
      "Families_in_Poverty   523.8737    265.980      1.970      0.055     -10.633    1058.380\n",
      "==============================================================================\n",
      "Omnibus:                       47.104   Durbin-Watson:                   2.035\n",
      "Prob(Omnibus):                  0.000   Jarque-Bera (JB):              251.263\n",
      "Skew:                           2.176   Prob(JB):                     2.75e-55\n",
      "Kurtosis:                      12.524   Cond. No.                     1.51e+06\n",
      "==============================================================================\n",
      "\n",
      "Warnings:\n",
      "[1] Standard Errors assume that the covariance matrix of the errors is correctly specified.\n",
      "[2] The condition number is large, 1.51e+06. This might indicate that there are\n",
      "strong multicollinearity or other numerical problems.\n"
     ]
    }
   ],
   "source": [
    "\n",
    "# Create a fitted model\n",
    "lm = sm.ols(formula= 'Juvenile_Arrest_Rate ~ Population + Median_Income + Unemployed + Bachelors_degree + Families_in_Poverty', data=df).fit()\n",
    "\n",
    "print(lm.summary())\n",
    "\n",
    "# Your code here: print model summary\n"
   ]
  },
  {
   "cell_type": "markdown",
   "metadata": {
    "collapsed": true
   },
   "source": [
    "Interpret the coefficient on median income. A \\$1 dollar increase in median income will decrease the incarceration rate by how much? What about a \\$1,000 increase?"
   ]
  },
  {
   "cell_type": "markdown",
   "metadata": {
    "collapsed": true
   },
   "source": [
    "# Your response here\n"
   ]
  },
  {
   "cell_type": "code",
   "execution_count": 160,
   "metadata": {},
   "outputs": [],
   "source": [
    "# Enter your interpretation of the coefficient\n",
    "# For every $1 increase in median income, the Juvenile Arrest rate will decrease by 0.0054%. \n",
    "# For a $1,000 increase in median income, the Juvenile Arrest rate will decrease by 5.4%\n"
   ]
  },
  {
   "cell_type": "code",
   "execution_count": null,
   "metadata": {},
   "outputs": [],
   "source": []
  }
 ],
 "metadata": {
  "kernelspec": {
   "display_name": "Python 3",
   "language": "python",
   "name": "python3"
  },
  "language_info": {
   "codemirror_mode": {
    "name": "ipython",
    "version": 3
   },
   "file_extension": ".py",
   "mimetype": "text/x-python",
   "name": "python",
   "nbconvert_exporter": "python",
   "pygments_lexer": "ipython3",
   "version": "3.6.4"
  }
 },
 "nbformat": 4,
 "nbformat_minor": 2
}
